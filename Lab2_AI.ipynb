{
  "nbformat": 4,
  "nbformat_minor": 0,
  "metadata": {
    "colab": {
      "provenance": [],
      "toc_visible": true
    },
    "kernelspec": {
      "name": "python3",
      "display_name": "Python 3"
    },
    "language_info": {
      "name": "python"
    }
  },
  "cells": [
    {
      "cell_type": "code",
      "execution_count": null,
      "metadata": {
        "colab": {
          "base_uri": "https://localhost:8080/"
        },
        "id": "FPji4RRTcwBl",
        "outputId": "12ed7109-a7ad-497d-845c-52657c695edc"
      },
      "outputs": [
        {
          "output_type": "stream",
          "name": "stdout",
          "text": [
            "Enter the number of rooms: 4\n",
            "Enter the details of the rooms\n",
            "Enter if the room is clean or dirty: dirty\n",
            "Enter if the room is clean or dirty: dirty\n",
            "Enter if the room is clean or dirty: dirty\n",
            "Enter if the room is clean or dirty: dirty\n",
            "Enter current location of robot: 0\n",
            "[1, 1, 1, 1]\n",
            "Enter prompt: clean\n",
            "[0, 1, 1, 1]\n",
            "Enter prompt: right\n",
            "[0, 1, 1, 1]\n",
            "Enter prompt: clean\n",
            "[0, 0, 1, 1]\n",
            "Enter prompt: right\n",
            "[0, 0, 1, 1]\n",
            "Enter prompt: clean\n",
            "[0, 0, 0, 1]\n",
            "Enter prompt: right\n",
            "[0, 0, 0, 1]\n",
            "Enter prompt: clean\n",
            "All rooms are clean\n"
          ]
        }
      ],
      "source": [
        "\n",
        "noRooms = int(input(\"Enter the number of rooms: \"))\n",
        "rooms = [0 for _ in range(noRooms)]\n",
        "print(\"Enter the details of the rooms\")\n",
        "for i in range(noRooms):\n",
        "  dirty = input(\"Enter if the room is clean or dirty: \")\n",
        "  if dirty == \"dirty\":\n",
        "    rooms[i] = 1\n",
        "currentRoom = int(input(\"Enter current location of robot: \"))\n",
        "\n",
        "\n",
        "while 1 in rooms:\n",
        "  print(rooms)\n",
        "  prompt = input(\"Enter prompt: \")\n",
        "  if prompt == \"clean\":\n",
        "    rooms[currentRoom] = 0\n",
        "  elif prompt == \"left\":\n",
        "    currentRoom-=1\n",
        "  elif prompt==\"right\":\n",
        "     currentRoom+=1\n",
        "\n",
        "print(\"All rooms are clean\")\n",
        "\n"
      ]
    },
    {
      "cell_type": "code",
      "source": [
        "from google.colab import drive\n",
        "drive.mount('/content/drive')"
      ],
      "metadata": {
        "id": "LK1-kMmZpsd-"
      },
      "execution_count": null,
      "outputs": []
    },
    {
      "cell_type": "code",
      "source": [],
      "metadata": {
        "id": "S9sci-IKdbLL"
      },
      "execution_count": null,
      "outputs": []
    }
  ]
}