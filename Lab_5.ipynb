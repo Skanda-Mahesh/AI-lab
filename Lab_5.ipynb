{
  "nbformat": 4,
  "nbformat_minor": 0,
  "metadata": {
    "colab": {
      "provenance": [],
      "authorship_tag": "ABX9TyOQpnDkXHpZAgh7cifi//Bd",
      "include_colab_link": true
    },
    "kernelspec": {
      "name": "python3",
      "display_name": "Python 3"
    },
    "language_info": {
      "name": "python"
    }
  },
  "cells": [
    {
      "cell_type": "markdown",
      "metadata": {
        "id": "view-in-github",
        "colab_type": "text"
      },
      "source": [
        "<a href=\"https://colab.research.google.com/github/Skanda-Mahesh/AI-lab/blob/main/Lab_5.ipynb\" target=\"_parent\"><img src=\"https://colab.research.google.com/assets/colab-badge.svg\" alt=\"Open In Colab\"/></a>"
      ]
    },
    {
      "cell_type": "code",
      "execution_count": 7,
      "metadata": {
        "colab": {
          "base_uri": "https://localhost:8080/"
        },
        "id": "zkEbVgcl3Qii",
        "outputId": "b3e8361d-61aa-4351-c364-f1859c3cbc99"
      },
      "outputs": [
        {
          "output_type": "stream",
          "name": "stdout",
          "text": [
            "Local optimum found with conflicts: 1\n",
            ". Q . . \n",
            ". . Q . \n",
            "Q . . . \n",
            ". . . Q \n",
            "\n"
          ]
        }
      ],
      "source": [
        "import random\n",
        "\n",
        "def random_state(n=4):\n",
        "    return [random.randint(0, n-1) for _ in range(n)]\n",
        "\n",
        "def conflicts(state):\n",
        "    n = len(state)\n",
        "    conflict_count = 0\n",
        "    for i in range(n):\n",
        "        for j in range(i+1, n):\n",
        "            # Same row\n",
        "            if state[i] == state[j]:\n",
        "                conflict_count += 1\n",
        "            # Same diagonal\n",
        "            if abs(state[i] - state[j]) == abs(i - j):\n",
        "                conflict_count += 1\n",
        "    return conflict_count\n",
        "\n",
        "def get_neighbors(state):\n",
        "    neighbors = []\n",
        "    n = len(state)\n",
        "    for col in range(n):\n",
        "        for row in range(n):\n",
        "            if state[col] != row:\n",
        "                neighbor = state.copy()\n",
        "                neighbor[col] = row\n",
        "                neighbors.append(neighbor)\n",
        "    return neighbors\n",
        "\n",
        "def hill_climbing(n=4, max_iterations=1000):\n",
        "    current = random_state(n)\n",
        "    current_conflicts = conflicts(current)\n",
        "\n",
        "    for iteration in range(max_iterations):\n",
        "        neighbors = get_neighbors(current)\n",
        "        neighbor_conflicts = [(conflicts(neighbor), neighbor) for neighbor in neighbors]\n",
        "\n",
        "        # Find neighbor with minimum conflicts\n",
        "        best_conflicts, best_neighbor = min(neighbor_conflicts, key=lambda x: x[0])\n",
        "\n",
        "        # If no improvement, stop\n",
        "        if best_conflicts >= current_conflicts:\n",
        "            break\n",
        "\n",
        "        current, current_conflicts = best_neighbor, best_conflicts\n",
        "\n",
        "        # If solution found\n",
        "        if current_conflicts == 0:\n",
        "            break\n",
        "\n",
        "    return current, current_conflicts\n",
        "\n",
        "def print_board(state):\n",
        "    n = len(state)\n",
        "    for row in range(n):\n",
        "        line = \"\"\n",
        "        for col in range(n):\n",
        "            if state[col] == row:\n",
        "                line += \"Q \"\n",
        "            else:\n",
        "                line += \". \"\n",
        "        print(line)\n",
        "    print()\n",
        "\n",
        "# Run the hill climbing algorithm for 4-queens\n",
        "solution, conflicts_count = hill_climbing(4)\n",
        "\n",
        "if conflicts_count == 0:\n",
        "    print(\"Solution found:\")\n",
        "else:\n",
        "    print(\"Local optimum found with conflicts:\", conflicts_count)\n",
        "print_board(solution)\n"
      ]
    },
    {
      "cell_type": "code",
      "source": [
        "import random\n",
        "import math\n",
        "\n",
        "def random_state(n=4):\n",
        "    return [random.randint(0, n-1) for _ in range(n)]\n",
        "\n",
        "def conflicts(state):\n",
        "    n = len(state)\n",
        "    conflict_count = 0\n",
        "    for i in range(n):\n",
        "        for j in range(i+1, n):\n",
        "            if state[i] == state[j]:\n",
        "                conflict_count += 1\n",
        "            if abs(state[i] - state[j]) == abs(i - j):\n",
        "                conflict_count += 1\n",
        "    return conflict_count\n",
        "\n",
        "def get_neighbors(state):\n",
        "    neighbors = []\n",
        "    n = len(state)\n",
        "    for col in range(n):\n",
        "        for row in range(n):\n",
        "            if state[col] != row:\n",
        "                neighbor = state.copy()\n",
        "                neighbor[col] = row\n",
        "                neighbors.append(neighbor)\n",
        "    return neighbors\n",
        "\n",
        "def simulated_annealing(n=4, max_iterations=1000, initial_temp=100.0, cooling_rate=0.95):\n",
        "    current = random_state(n)\n",
        "    current_conflicts = conflicts(current)\n",
        "    temperature = initial_temp\n",
        "\n",
        "    for iteration in range(max_iterations):\n",
        "        if current_conflicts == 0:\n",
        "            break\n",
        "\n",
        "        neighbors = get_neighbors(current)\n",
        "        next_state = random.choice(neighbors)\n",
        "        next_conflicts = conflicts(next_state)\n",
        "\n",
        "        delta = next_conflicts - current_conflicts\n",
        "\n",
        "        if delta < 0:\n",
        "            current, current_conflicts = next_state, next_conflicts\n",
        "        else:\n",
        "            probability = math.exp(-delta / temperature)\n",
        "            if random.random() < probability:\n",
        "                current, current_conflicts = next_state, next_conflicts\n",
        "\n",
        "        temperature *= cooling_rate\n",
        "\n",
        "        if temperature < 1e-3:\n",
        "            break\n",
        "\n",
        "    return current, current_conflicts\n",
        "\n",
        "def print_board(state):\n",
        "    n = len(state)\n",
        "    for row in range(n):\n",
        "        line = \"\"\n",
        "        for col in range(n):\n",
        "            if state[col] == row:\n",
        "                line += \"Q \"\n",
        "            else:\n",
        "                line += \". \"\n",
        "        print(line)\n",
        "    print()\n",
        "\n",
        "solution, conflicts_count = simulated_annealing(8)\n",
        "\n",
        "if conflicts_count == 0:\n",
        "    print(\"Solution found:\")\n",
        "else:\n",
        "    print(\"Stopped at local optimum with conflicts:\", conflicts_count)\n",
        "print_board(solution)\n"
      ],
      "metadata": {
        "colab": {
          "base_uri": "https://localhost:8080/"
        },
        "id": "hlOMvEvr9Ff9",
        "outputId": "89159a4f-88f9-40a9-d80c-5079b5fd036c"
      },
      "execution_count": 21,
      "outputs": [
        {
          "output_type": "stream",
          "name": "stdout",
          "text": [
            "Solution found:\n",
            ". . . Q . . . . \n",
            "Q . . . . . . . \n",
            ". . . . Q . . . \n",
            ". . . . . . . Q \n",
            ". . . . . Q . . \n",
            ". . Q . . . . . \n",
            ". . . . . . Q . \n",
            ". Q . . . . . . \n",
            "\n"
          ]
        }
      ]
    }
  ]
}