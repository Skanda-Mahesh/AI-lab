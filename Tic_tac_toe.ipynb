{
  "nbformat": 4,
  "nbformat_minor": 0,
  "metadata": {
    "colab": {
      "provenance": []
    },
    "kernelspec": {
      "name": "python3",
      "display_name": "Python 3"
    },
    "language_info": {
      "name": "python"
    }
  },
  "cells": [
    {
      "cell_type": "code",
      "execution_count": 4,
      "metadata": {
        "id": "zMV1canccJl6",
        "colab": {
          "base_uri": "https://localhost:8080/"
        },
        "outputId": "63909052-0a7f-42db-a9fc-5bfc7f2a658d"
      },
      "outputs": [
        {
          "output_type": "stream",
          "name": "stdout",
          "text": [
            "Enter either x or o: x\n",
            "- - -\n",
            "- - -\n",
            "- - -\n",
            "\n",
            "Player 1 enter row (0-2): 0\n",
            "Player 1 enter col (0-2): 0\n",
            "x - -\n",
            "- - -\n",
            "- - -\n",
            "\n",
            "Player 2 enter row (0-2): 0\n",
            "Player 2 enter col (0-2): 2\n",
            "x - o\n",
            "- - -\n",
            "- - -\n",
            "\n",
            "Player 1 enter row (0-2): 1\n",
            "Player 1 enter col (0-2): 1\n",
            "x - o\n",
            "- x -\n",
            "- - -\n",
            "\n",
            "Player 2 enter row (0-2): 2\n",
            "Player 2 enter col (0-2): 0\n",
            "x - o\n",
            "- x -\n",
            "o - -\n",
            "\n",
            "Player 1 enter row (0-2): 2\n",
            "Player 1 enter col (0-2): 2\n",
            "x - o\n",
            "- x -\n",
            "o - x\n",
            "\n",
            "Player 1 wins!\n"
          ]
        },
        {
          "output_type": "execute_result",
          "data": {
            "text/plain": [
              "11"
            ]
          },
          "metadata": {},
          "execution_count": 4
        }
      ],
      "source": [
        "board = [['-' for _ in range(3)] for _ in range(3)]\n",
        "\n",
        "p1 = input(\"Enter either x or o: \")\n",
        "p2 = \"\"\n",
        "if p1 == 'x':\n",
        "    p2 = 'o'\n",
        "else:\n",
        "    p2 = 'x'\n",
        "\n",
        "turn = 0\n",
        "\n",
        "def printBoard():\n",
        "    for row in board:\n",
        "        print(\" \".join(row))\n",
        "    print()\n",
        "\n",
        "def hasWon():\n",
        "    # check rows\n",
        "    for r in range(3):\n",
        "        if board[r][0] == board[r][1] == board[r][2] != '-':\n",
        "            return True\n",
        "    # check cols\n",
        "    for c in range(3):\n",
        "        if board[0][c] == board[1][c] == board[2][c] != '-':\n",
        "            return True\n",
        "    # check diagonals\n",
        "    if board[0][0] == board[1][1] == board[2][2] != '-':\n",
        "        return True\n",
        "    if board[0][2] == board[1][1] == board[2][0] != '-':\n",
        "        return True\n",
        "    return False\n",
        "\n",
        "def prompt(player):\n",
        "    if player == 1:\n",
        "        sym = p1\n",
        "    else:\n",
        "        sym = p2\n",
        "    while True:\n",
        "        r = int(input(f\"Player {player} enter row (0-2): \"))\n",
        "        c = int(input(f\"Player {player} enter col (0-2): \"))\n",
        "        if board[r][c] == '-' or (r or c == ''):\n",
        "            board[r][c] = sym\n",
        "            break\n",
        "        else:\n",
        "            print(\"Spot taken, try again.\")\n",
        "\n",
        "while True:\n",
        "    printBoard()\n",
        "    if turn % 2 == 0:\n",
        "        prompt(1)\n",
        "    else:\n",
        "        prompt(2)\n",
        "    if hasWon():\n",
        "        printBoard()\n",
        "        if turn % 2 == 0:\n",
        "            print(\"Player 1 wins!\")\n",
        "        else:\n",
        "            print(\"Player 2 wins!\")\n",
        "        break\n",
        "    turn += 1\n",
        "    if turn == 9:\n",
        "        printBoard()\n",
        "        print(\"Draw\")\n",
        "        break\n",
        "11"
      ]
    }
  ]
}